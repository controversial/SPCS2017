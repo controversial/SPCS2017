{
 "cells": [
  {
   "cell_type": "markdown",
   "metadata": {},
   "source": [
    "# Grammars"
   ]
  },
  {
   "cell_type": "markdown",
   "metadata": {},
   "source": [
    "### Part 1: Basic sentences"
   ]
  },
  {
   "cell_type": "code",
   "execution_count": 28,
   "metadata": {
    "collapsed": true
   },
   "outputs": [],
   "source": [
    "var tracery = require('tracery-grammar');\n",
    "\n",
    "var grammar1 = tracery.createGrammar({\n",
    "    beginning: ['once upon a time', 'once', 'a long time ago in a galaxy far, far away...', 'yesterday', 'last tuesday', 'as a child', 'all of a sudden', 'suddenly'],\n",
    "    subject: ['Amy', 'a cat', 'a dog', 'Bill', 'James', 'Jake', 'Megan'],\n",
    "    action: ['wanted', 'needed', 'felt an irresistable urge for'],\n",
    "    object: ['a new car', 'cake', 'companionship', 'love', 'pie', 'cookies', 'pizza', 'water', \"god's love\"],\n",
    "    // origin: '#beginning# #subject# #action# #object#',\n",
    "    story: `\n",
    "    #beginning# there was #hero#.\n",
    "    The #hero# woke up and #chosenAction# #chosenObject#.\n",
    "    Finally, he got the #chosenObject# that it had #chosenAction#.`,\n",
    "    origin: '#[hero:#subject#][chosenAction:#action#][chosenObject:#object#]story#',\n",
    "});"
   ]
  },
  {
   "cell_type": "code",
   "execution_count": 30,
   "metadata": {},
   "outputs": [
    {
     "name": "stdout",
     "output_type": "stream",
     "text": [
      "\n",
      "    once there was Jake.\n",
      "    The Jake woke up and felt an irresistable urge for a new car.\n",
      "    Finally, he got the a new car that it had felt an irresistable urge for.\n",
      "\n",
      "    once there was Jake.\n",
      "    The Jake woke up and felt an irresistable urge for god's love.\n",
      "    Finally, he got the god's love that it had felt an irresistable urge for.\n",
      "\n",
      "    a long time ago in a galaxy far, far away... there was a cat.\n",
      "    The a cat woke up and wanted love.\n",
      "    Finally, he got the love that it had wanted.\n"
     ]
    }
   ],
   "source": [
    "for (let i = 0; i < 3; i++) console.log(grammar.flatten('#origin#'));"
   ]
  },
  {
   "cell_type": "markdown",
   "metadata": {},
   "source": [
    "### Reflection\n",
    "I think creating grammars in this way can be powerful and "
   ]
  }
 ],
 "metadata": {
  "kernelspec": {
   "display_name": "NodeJS",
   "language": "javascript",
   "name": "nodejs"
  },
  "language_info": {
   "codemirror_mode": "javascript",
   "file_extension": ".js",
   "mimetype": "text/javascript",
   "name": "nodejs",
   "pygments_lexer": "javascript",
   "version": "0.10"
  }
 },
 "nbformat": 4,
 "nbformat_minor": 2
}
