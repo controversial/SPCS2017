{
 "cells": [
  {
   "cell_type": "markdown",
   "metadata": {},
   "source": [
    "## Reflections on Automata\n",
    "\n",
    "I'll begin by reflecting on the classic Cellular Automata: **Conway's Game of Life**. Life involves cells with two states, and cells can switch from alive to dead, from dead to alive, or maintain a state of either life or death. The fate of a cell is determined by the number of its neighbors that are alive. Since Life cells can switch states based on only a small change in their environment, even the smallest of changes can cascade and create a major disruption.\n",
    "\n",
    "```python\n",
    "if the cell is dead:\n",
    "    if the number of live neighbors is 2 or 3:\n",
    "        the cell comes to life\n",
    "    else:\n",
    "        the cell remains dead\n",
    "if the cell is alive:\n",
    "    if the cell has three live neighbors:\n",
    "        the cell remains alive\n",
    "    else:\n",
    "        the cell dies\n",
    "```\n",
    "\n",
    "I thought the **Colliding Cyclones** ruleset contrasts with Life in an interesting way. In Colliding Cyclones, each cell must cycle through the 3 different states; it cannot skip an intermediate state. It changes to the next state if several of its neighbors are of the state to which it would naturally progress. The lack of the \"death\" behavior seen in Conway's Game of Life lends stability to this CA. Cells can only progress in a constant order; they cannot move backwards in the pattern. Thus, this ruleset is hard to interrupt. In Life, a disruption can propagate and cause a big change, however in Colliding Cyclones a change will instantly disappear when cells of the next color appear around it.\n",
    "\n",
    "```python\n",
    "if the cell has more than three neighbors of the next state:\n",
    "    the cell state progresses\n",
    "```\n",
    "\n",
    "**Rock paper scissors** introduces randomness. In Rock Paper Scissors, there is an element of randomness and thus it is difficult to disrupt. No small change causes disruption since there is no predictable pattern.\n",
    "\n",
    "```python\n",
    "if random.random() > 1/3:\n",
    "    the cell adopts the state of its neighbor\n",
    "```"
   ]
  },
  {
   "cell_type": "markdown",
   "metadata": {},
   "source": [
    "## Automata simulated in Emoji\n",
    "\n",
    "1. [Game of Life](http://ncase.me/emoji-prototype/?remote=-KnkNPGfdaEFyH8BfUNT)\n",
    "2. [Colliding Cyclones](http://ncase.me/emoji-prototype/?remote=-KnkLd8soX61i4Ta6rf9)\n",
    "3. *The Rock Paper Scissors automata cannot be modelled*"
   ]
  },
  {
   "cell_type": "markdown",
   "metadata": {},
   "source": [
    "# Implementation of Game of Life"
   ]
  },
  {
   "cell_type": "code",
   "execution_count": 13,
   "metadata": {},
   "outputs": [
    {
     "data": {
      "image/png": "[encoded data removed]",
      "text/plain": [
       "<matplotlib.figure.Figure at 0x108ab5a20>"
      ]
     },
     "metadata": {},
     "output_type": "display_data"
    }
   ],
   "source": [
    "import matplotlib.pyplot as plt\n",
    "from random import randint\n",
    "from IPython.display import clear_output as clear\n",
    "import time\n",
    "\n",
    "size = 100\n",
    "plt.set_cmap('copper')\n",
    "\n",
    "# Create board of 30% booleans\n",
    "board = [[0] * size for _ in range(size)]\n",
    "for row in range(size):\n",
    "    for col in range(size):\n",
    "        board[row][col] = randint(1, 10) < 3\n",
    "\n",
    "def count_live_neighbors(row, col):\n",
    "    global board\n",
    "    rowroomneg = row > 0;\n",
    "    colroomneg = col > 0;\n",
    "    rowroompos = row < size - 1;\n",
    "    colroompos = col < size - 1;\n",
    "    return sum([\n",
    "        colroomneg and board[row][col - 1],                     # above\n",
    "        rowroompos and colroomneg and board[row + 1][col - 1],  # above right\n",
    "        rowroompos and board[row + 1][col],                     # right\n",
    "        rowroompos and colroompos and board[row + 1][col + 1],  # below right\n",
    "        colroompos and board[row][col + 1],                     # below\n",
    "        rowroomneg and colroompos and board[row - 1][col + 1],  # below left\n",
    "        rowroomneg and board[row - 1][col],                     # left\n",
    "        rowroomneg and colroompos and board[row - 1][col - 1],  # above and left\n",
    "    ])\n",
    "\n",
    "def step():\n",
    "    global board\n",
    "    new_board = [[0] * size for _ in range(size)]\n",
    "    for row in range(size):\n",
    "        for col, value in enumerate(board[row]):\n",
    "            live_neighbors = count_live_neighbors(row, col)\n",
    "            if value:  # Cell is alive\n",
    "                new_board[row][col] = live_neighbors in [2, 3]  # Any dead cell \n",
    "            else:  # Cell is dead\n",
    "                new_board[row][col] = live_neighbors == 3  # Any dead cell with exactly 3 live neighbors is born\n",
    "    board = new_board\n",
    "    plt.matshow(board)\n",
    "    clear(wait=True)\n",
    "    plt.show()\n",
    "\n",
    "while True:\n",
    "    try:\n",
    "        step()\n",
    "    except KeyboardInterrupt:\n",
    "        break"
   ]
  },
  {
   "cell_type": "code",
   "execution_count": null,
   "metadata": {
    "collapsed": true
   },
   "outputs": [],
   "source": []
  }
 ],
 "metadata": {
  "kernelspec": {
   "display_name": "Python 3",
   "language": "python",
   "name": "python3"
  },
  "language_info": {
   "codemirror_mode": {
    "name": "ipython",
    "version": 3
   },
   "file_extension": ".py",
   "mimetype": "text/x-python",
   "name": "python",
   "nbconvert_exporter": "python",
   "pygments_lexer": "ipython3",
   "version": "3.6.1"
  }
 },
 "nbformat": 4,
 "nbformat_minor": 2
}
