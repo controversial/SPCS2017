{
 "cells": [
  {
   "cell_type": "markdown",
   "metadata": {},
   "source": [
    "# Pathfinding Cellular Automata"
   ]
  },
  {
   "cell_type": "code",
   "execution_count": 1,
   "metadata": {
    "collapsed": true
   },
   "outputs": [],
   "source": [
    "import matplotlib"
   ]
  },
  {
   "cell_type": "markdown",
   "metadata": {},
   "source": [
    "### Maze Generation"
   ]
  },
  {
   "cell_type": "code",
   "execution_count": 2,
   "metadata": {
    "collapsed": true
   },
   "outputs": [],
   "source": [
    "from queue import LifoQueue as Stack\n",
    "\n",
    "# size must be even and greater than (5, 5)\n",
    "def gen_maze(size):\n",
    "    assert w % 2 == 0 and h % 2 == 0 and w > 5 and h > 5\n",
    "    w, h = size\n",
    "    board = [[False] * width for _ in range(height)]\n",
    "    # Fill in walls\n",
    "    for row in range(0, h):\n",
    "        board[row][0] = board[row][w - 1] = True\n",
    "    for col in range(0, w):\n",
    "        board[0][col] = board[h - 1][col] = True\n",
    "    # Generate maze\n",
    "    stack1 = Stack()\n",
    "    x, y = (2, 2)\n",
    "    while True:\n",
    "        "
   ]
  },
  {
   "cell_type": "markdown",
   "metadata": {},
   "source": [
    "### Cells"
   ]
  },
  {
   "cell_type": "code",
   "execution_count": null,
   "metadata": {
    "collapsed": true
   },
   "outputs": [],
   "source": [
    "size = 10\n",
    "board = [[None] * size for _ in range(size)]\n",
    "\n",
    "states = {\n",
    "    'off': 0,\n",
    "    'wall': 1,\n",
    "    'trail': 2,\n",
    "    'person': 3,\n",
    "}\n",
    "\n",
    "for row in range(size):\n",
    "    for col in range(size):\n",
    "        board[row][col] = Cell(states['off'], row, col)\n",
    "\n",
    "class Cell():\n",
    "    def __init__(self, state, row, col):\n",
    "        self.state = state\n",
    "        self.row = row\n",
    "        self.col = col"
   ]
  }
 ],
 "metadata": {
  "kernelspec": {
   "display_name": "Python 3",
   "language": "python",
   "name": "python3"
  },
  "language_info": {
   "codemirror_mode": {
    "name": "ipython",
    "version": 3
   },
   "file_extension": ".py",
   "mimetype": "text/x-python",
   "name": "python",
   "nbconvert_exporter": "python",
   "pygments_lexer": "ipython3",
   "version": "3.6.1"
  }
 },
 "nbformat": 4,
 "nbformat_minor": 2
}
